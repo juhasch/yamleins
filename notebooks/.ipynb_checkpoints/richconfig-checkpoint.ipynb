{
 "cells": [
  {
   "cell_type": "markdown",
   "id": "51eae8cd",
   "metadata": {},
   "source": [
    "# RichConfig"
   ]
  },
  {
   "cell_type": "code",
   "execution_count": 1,
   "id": "f4f9faaa",
   "metadata": {},
   "outputs": [],
   "source": [
    "from richconfig import RichConfig"
   ]
  },
  {
   "cell_type": "code",
   "execution_count": 2,
   "id": "d1cae825",
   "metadata": {},
   "outputs": [],
   "source": [
    "template = \"\"\"\n",
    "    blue_time:\n",
    "        type: float | int\n",
    "        default: 20us\n",
    "        unit: s\n",
    "        doc: Duration of a single chirp\n",
    "        range: [1 ns, 1s]\n",
    "\n",
    "    num_blue_time:\n",
    "        type: float | int\n",
    "        default: 128\n",
    "        unit: None\n",
    "        doc: Number of fast time chirps\n",
    "        range: [1, 1000]\n",
    "\n",
    "    white_time:\n",
    "        type: float | int\n",
    "        default: 1ms\n",
    "        unit: s\n",
    "        doc: Duration of a single slow time frame\n",
    "        range: [1 ns, 1s]\n",
    "\n",
    "    bandwidth:\n",
    "        type: float | int\n",
    "        default: 1GHz\n",
    "        unit: Hz\n",
    "        doc: Bandwidth of the chirp\n",
    "        range: [1 Hz, 10GHz]\n",
    "\"\"\""
   ]
  },
  {
   "cell_type": "code",
   "execution_count": 3,
   "id": "3eaf47ab",
   "metadata": {},
   "outputs": [],
   "source": [
    "config = RichConfig.create(template)"
   ]
  },
  {
   "cell_type": "code",
   "execution_count": 4,
   "id": "17b97fff",
   "metadata": {},
   "outputs": [
    {
     "data": {
      "text/plain": [
       "RichConfig({})"
      ]
     },
     "execution_count": 4,
     "metadata": {},
     "output_type": "execute_result"
    }
   ],
   "source": [
    "config"
   ]
  },
  {
   "cell_type": "code",
   "execution_count": 5,
   "id": "3e9bd70a",
   "metadata": {},
   "outputs": [
    {
     "data": {
      "text/plain": [
       "{'blue_time': <richconfig.Validator at 0x7f65c8c76490>,\n",
       " 'num_blue_time': <richconfig.Validator at 0x7f65a41d6cd0>,\n",
       " 'white_time': <richconfig.Validator at 0x7f65a69d0750>,\n",
       " 'bandwidth': <richconfig.Validator at 0x7f65a5b4a950>}"
      ]
     },
     "execution_count": 5,
     "metadata": {},
     "output_type": "execute_result"
    }
   ],
   "source": [
    "config._parameters"
   ]
  },
  {
   "cell_type": "code",
   "execution_count": 6,
   "id": "de3cf68e",
   "metadata": {},
   "outputs": [],
   "source": [
    "cfg = \"\"\"\n",
    "    blue_time: 11us\n",
    "    num_blue_time: 128\n",
    "    white_time: num_blue_time * blue_time\n",
    "\"\"\""
   ]
  },
  {
   "cell_type": "code",
   "execution_count": 7,
   "id": "4f812601",
   "metadata": {},
   "outputs": [
    {
     "name": "stdout",
     "output_type": "stream",
     "text": [
      "value=11 us\n",
      "value=128\n",
      "value=1408 us\n"
     ]
    }
   ],
   "source": [
    "config.load(cfg)"
   ]
  },
  {
   "cell_type": "code",
   "execution_count": 8,
   "id": "5d3c66c0",
   "metadata": {},
   "outputs": [
    {
     "data": {
      "text/plain": [
       "RichConfig({'blue_time': 11 us, 'num_blue_time': 128, 'white_time': 1408 us, 'bandwidth': 1 GHz})"
      ]
     },
     "execution_count": 8,
     "metadata": {},
     "output_type": "execute_result"
    }
   ],
   "source": [
    "config"
   ]
  },
  {
   "cell_type": "code",
   "execution_count": 9,
   "id": "f0ba18f9",
   "metadata": {},
   "outputs": [
    {
     "name": "stdout",
     "output_type": "stream",
     "text": [
      "bandwidth: 1 GHz\n",
      "blue_time: 11 us\n",
      "num_blue_time: 128\n",
      "white_time: 1408 us\n",
      "\n"
     ]
    }
   ],
   "source": [
    "print(config.yaml)"
   ]
  },
  {
   "cell_type": "code",
   "execution_count": 10,
   "id": "d1b35c67",
   "metadata": {},
   "outputs": [
    {
     "data": {
      "text/plain": [
       "{'blue_time': 11 us,\n",
       " 'num_blue_time': 128,\n",
       " 'white_time': 1408 us,\n",
       " 'bandwidth': 1 GHz}"
      ]
     },
     "execution_count": 10,
     "metadata": {},
     "output_type": "execute_result"
    }
   ],
   "source": [
    "config.__dict__()"
   ]
  },
  {
   "cell_type": "code",
   "execution_count": 11,
   "id": "f270286a",
   "metadata": {},
   "outputs": [],
   "source": [
    "cfg2 = \"\"\"\n",
    "    blue_time: 0.1 s\n",
    "    num_blue_time: 128\n",
    "    white_time: 1.1 s\n",
    "\"\"\""
   ]
  },
  {
   "cell_type": "code",
   "execution_count": 12,
   "id": "1b64c82c",
   "metadata": {},
   "outputs": [
    {
     "name": "stdout",
     "output_type": "stream",
     "text": [
      "value=0.1 s\n",
      "value=128\n",
      "value=1.1 s\n"
     ]
    },
    {
     "ename": "ValueError",
     "evalue": "[white_time]: Value 1.1 s is not in range [1 ns, 1 s]",
     "output_type": "error",
     "traceback": [
      "\u001b[0;31m---------------------------------------------------------------------------\u001b[0m",
      "\u001b[0;31mValueError\u001b[0m                                Traceback (most recent call last)",
      "Cell \u001b[0;32mIn[12], line 1\u001b[0m\n\u001b[0;32m----> 1\u001b[0m \u001b[43mconfig\u001b[49m\u001b[38;5;241;43m.\u001b[39;49m\u001b[43mload\u001b[49m\u001b[43m(\u001b[49m\u001b[43mcfg2\u001b[49m\u001b[43m)\u001b[49m\n",
      "File \u001b[0;32m~/qrl/git/validatedconfig/richconfig/__init__.py:106\u001b[0m, in \u001b[0;36mRichConfig.load\u001b[0;34m(self, yaml_str, keep_units)\u001b[0m\n\u001b[1;32m    104\u001b[0m statement \u001b[38;5;241m=\u001b[39m transform_line(\u001b[38;5;28mstr\u001b[39m(value))\n\u001b[1;32m    105\u001b[0m _value \u001b[38;5;241m=\u001b[39m \u001b[38;5;28meval\u001b[39m(statement, \u001b[38;5;28mself\u001b[39m\u001b[38;5;241m.\u001b[39m_values, \u001b[38;5;28mdict\u001b[39m(pq\u001b[38;5;241m=\u001b[39mpq))\n\u001b[0;32m--> 106\u001b[0m \u001b[38;5;28;43mself\u001b[39;49m\u001b[38;5;241;43m.\u001b[39;49m\u001b[43m_parameters\u001b[49m\u001b[43m[\u001b[49m\u001b[43mkey\u001b[49m\u001b[43m]\u001b[49m\u001b[38;5;241;43m.\u001b[39;49m\u001b[43mverify\u001b[49m\u001b[43m(\u001b[49m\u001b[43m_value\u001b[49m\u001b[43m)\u001b[49m\n\u001b[1;32m    107\u001b[0m \u001b[38;5;28mself\u001b[39m\u001b[38;5;241m.\u001b[39m_values[key] \u001b[38;5;241m=\u001b[39m _value\n\u001b[1;32m    108\u001b[0m \u001b[38;5;28mself\u001b[39m\u001b[38;5;241m.\u001b[39m_values\u001b[38;5;241m.\u001b[39mpop(\u001b[38;5;124m'\u001b[39m\u001b[38;5;124m__builtins__\u001b[39m\u001b[38;5;124m'\u001b[39m, \u001b[38;5;28;01mNone\u001b[39;00m)\n",
      "File \u001b[0;32m~/qrl/git/validatedconfig/richconfig/__init__.py:57\u001b[0m, in \u001b[0;36mValidator.verify\u001b[0;34m(self, value)\u001b[0m\n\u001b[1;32m     55\u001b[0m \u001b[38;5;28mprint\u001b[39m(\u001b[38;5;124mf\u001b[39m\u001b[38;5;124m'\u001b[39m\u001b[38;5;132;01m{\u001b[39;00mvalue\u001b[38;5;132;01m=}\u001b[39;00m\u001b[38;5;124m'\u001b[39m)\n\u001b[1;32m     56\u001b[0m \u001b[38;5;28;01mif\u001b[39;00m \u001b[38;5;129;01mnot\u001b[39;00m low \u001b[38;5;241m<\u001b[39m\u001b[38;5;241m=\u001b[39m value \u001b[38;5;241m<\u001b[39m\u001b[38;5;241m=\u001b[39m high:\n\u001b[0;32m---> 57\u001b[0m     \u001b[38;5;28;01mraise\u001b[39;00m \u001b[38;5;167;01mValueError\u001b[39;00m(\u001b[38;5;124mf\u001b[39m\u001b[38;5;124m'\u001b[39m\u001b[38;5;124m[\u001b[39m\u001b[38;5;132;01m{\u001b[39;00m\u001b[38;5;28mself\u001b[39m\u001b[38;5;241m.\u001b[39mname\u001b[38;5;132;01m}\u001b[39;00m\u001b[38;5;124m]: Value \u001b[39m\u001b[38;5;132;01m{\u001b[39;00mvalue\u001b[38;5;132;01m}\u001b[39;00m\u001b[38;5;124m is not in range \u001b[39m\u001b[38;5;132;01m{\u001b[39;00m\u001b[38;5;28mself\u001b[39m\u001b[38;5;241m.\u001b[39mschema[\u001b[38;5;124m\"\u001b[39m\u001b[38;5;124mrange\u001b[39m\u001b[38;5;124m\"\u001b[39m]\u001b[38;5;132;01m}\u001b[39;00m\u001b[38;5;124m'\u001b[39m)\n\u001b[1;32m     58\u001b[0m \u001b[38;5;28;01mif\u001b[39;00m isphysicalquantity(value):\n\u001b[1;32m     59\u001b[0m     value \u001b[38;5;241m=\u001b[39m value\u001b[38;5;241m.\u001b[39mvalue\n",
      "\u001b[0;31mValueError\u001b[0m: [white_time]: Value 1.1 s is not in range [1 ns, 1 s]"
     ]
    }
   ],
   "source": [
    "config.load(cfg2)"
   ]
  },
  {
   "cell_type": "code",
   "execution_count": null,
   "id": "7b663023",
   "metadata": {},
   "outputs": [],
   "source": [
    "config._parameters['blue_time'].schema"
   ]
  },
  {
   "cell_type": "code",
   "execution_count": null,
   "id": "cad9f8df",
   "metadata": {},
   "outputs": [],
   "source": [
    "config._parameters['white_time'].schema"
   ]
  },
  {
   "cell_type": "code",
   "execution_count": null,
   "id": "c85a4311",
   "metadata": {},
   "outputs": [],
   "source": [
    "config._parameters['num_blue_time'].schema"
   ]
  },
  {
   "cell_type": "code",
   "execution_count": null,
   "id": "195dd6af",
   "metadata": {},
   "outputs": [],
   "source": [
    "type(config.blue_time.value)"
   ]
  },
  {
   "cell_type": "code",
   "execution_count": null,
   "id": "6bb2d6db",
   "metadata": {},
   "outputs": [],
   "source": [
    "isinstance(11.1, int | float)"
   ]
  },
  {
   "cell_type": "code",
   "execution_count": null,
   "id": "5ca7b94a",
   "metadata": {},
   "outputs": [],
   "source": []
  }
 ],
 "metadata": {
  "kernelspec": {
   "display_name": "Python 3 (ipykernel)",
   "language": "python",
   "name": "python3"
  },
  "language_info": {
   "codemirror_mode": {
    "name": "ipython",
    "version": 3
   },
   "file_extension": ".py",
   "mimetype": "text/x-python",
   "name": "python",
   "nbconvert_exporter": "python",
   "pygments_lexer": "ipython3",
   "version": "3.11.3"
  }
 },
 "nbformat": 4,
 "nbformat_minor": 5
}
