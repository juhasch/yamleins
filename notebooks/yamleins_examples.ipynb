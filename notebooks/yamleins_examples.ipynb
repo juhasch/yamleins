{
 "cells": [
  {
   "cell_type": "markdown",
   "id": "51eae8cd",
   "metadata": {},
   "source": [
    "# YamlConfig"
   ]
  },
  {
   "cell_type": "code",
   "execution_count": 1,
   "id": "f4f9faaa",
   "metadata": {
    "ExecuteTime": {
     "end_time": "2023-05-31T17:43:10.816395703Z",
     "start_time": "2023-05-31T17:43:10.576634422Z"
    }
   },
   "outputs": [],
   "source": [
    "from yamleins import YamlConfig"
   ]
  },
  {
   "cell_type": "code",
   "execution_count": 2,
   "id": "d1cae825",
   "metadata": {
    "ExecuteTime": {
     "end_time": "2023-05-31T17:43:10.818156581Z",
     "start_time": "2023-05-31T17:43:10.816940848Z"
    }
   },
   "outputs": [],
   "source": [
    "template = \"\"\"\n",
    "    blue_time:\n",
    "        type: float | int\n",
    "        default: 20us\n",
    "        unit: s\n",
    "        doc: Duration of a single blue time frame\n",
    "        range: [1 ns, 1s]\n",
    "\n",
    "    num_blue_time:\n",
    "        type: float | int\n",
    "        default: 128\n",
    "        unit: None\n",
    "        doc: Number of blue times\n",
    "        range: [1, 1000]\n",
    "\n",
    "    white_time:\n",
    "        type: float | int\n",
    "        default: 1ms\n",
    "        unit: s\n",
    "        doc: Duration of a single white time frame\n",
    "        range: [1 ns, 1s]\n",
    "\n",
    "    frequency:\n",
    "        type: float | int\n",
    "        default: 1GHz\n",
    "        unit: Hz\n",
    "        doc: Some kind of frequency\n",
    "        range: [1 Hz, 10GHz]\n",
    "\"\"\""
   ]
  },
  {
   "cell_type": "code",
   "execution_count": 3,
   "id": "3eaf47ab",
   "metadata": {
    "ExecuteTime": {
     "end_time": "2023-05-31T17:43:10.821209705Z",
     "start_time": "2023-05-31T17:43:10.820379449Z"
    }
   },
   "outputs": [],
   "source": [
    "config = YamlConfig.create(template)"
   ]
  },
  {
   "cell_type": "code",
   "execution_count": 4,
   "id": "17b97fff",
   "metadata": {
    "ExecuteTime": {
     "end_time": "2023-05-31T17:43:10.828937632Z",
     "start_time": "2023-05-31T17:43:10.822608950Z"
    }
   },
   "outputs": [
    {
     "data": {
      "text/plain": "YamlConfig({})"
     },
     "execution_count": 4,
     "metadata": {},
     "output_type": "execute_result"
    }
   ],
   "source": [
    "config"
   ]
  },
  {
   "cell_type": "code",
   "execution_count": 5,
   "id": "3e9bd70a",
   "metadata": {
    "ExecuteTime": {
     "end_time": "2023-05-31T17:43:10.869228161Z",
     "start_time": "2023-05-31T17:43:10.828835361Z"
    }
   },
   "outputs": [
    {
     "data": {
      "text/plain": "{'blue_time': <yamleins.Validator at 0x7f59cacdd720>,\n 'num_blue_time': <yamleins.Validator at 0x7f59cacddf90>,\n 'white_time': <yamleins.Validator at 0x7f59cacde050>,\n 'frequency': <yamleins.Validator at 0x7f59cacddf60>}"
     },
     "execution_count": 5,
     "metadata": {},
     "output_type": "execute_result"
    }
   ],
   "source": [
    "config._parameters"
   ]
  },
  {
   "cell_type": "code",
   "execution_count": 6,
   "id": "de3cf68e",
   "metadata": {
    "ExecuteTime": {
     "end_time": "2023-05-31T17:43:10.869387537Z",
     "start_time": "2023-05-31T17:43:10.869079955Z"
    }
   },
   "outputs": [],
   "source": [
    "cfg = \"\"\"\n",
    "    blue_time: 11us\n",
    "    num_blue_time: 128\n",
    "    white_time: num_blue_time * blue_time\n",
    "\"\"\""
   ]
  },
  {
   "cell_type": "code",
   "execution_count": 7,
   "id": "4f812601",
   "metadata": {
    "ExecuteTime": {
     "end_time": "2023-05-31T17:43:10.869518611Z",
     "start_time": "2023-05-31T17:43:10.869327866Z"
    }
   },
   "outputs": [],
   "source": [
    "config.load(cfg)"
   ]
  },
  {
   "cell_type": "code",
   "execution_count": 8,
   "id": "5d3c66c0",
   "metadata": {
    "ExecuteTime": {
     "end_time": "2023-05-31T17:43:10.869752497Z",
     "start_time": "2023-05-31T17:43:10.869466434Z"
    }
   },
   "outputs": [
    {
     "data": {
      "text/plain": "YamlConfig({'blue_time': 11 us, 'num_blue_time': 128, 'white_time': 1408 us, 'frequency': 1 GHz})"
     },
     "execution_count": 8,
     "metadata": {},
     "output_type": "execute_result"
    }
   ],
   "source": [
    "config"
   ]
  },
  {
   "cell_type": "code",
   "execution_count": 9,
   "id": "f0ba18f9",
   "metadata": {
    "ExecuteTime": {
     "end_time": "2023-05-31T17:43:10.870345561Z",
     "start_time": "2023-05-31T17:43:10.869655697Z"
    }
   },
   "outputs": [
    {
     "name": "stdout",
     "output_type": "stream",
     "text": [
      "blue_time: 11 us\n",
      "frequency: 1 GHz\n",
      "num_blue_time: 128\n",
      "white_time: 1408 us\n",
      "\n"
     ]
    }
   ],
   "source": [
    "print(config.yaml)"
   ]
  },
  {
   "cell_type": "code",
   "execution_count": 10,
   "id": "d1b35c67",
   "metadata": {
    "ExecuteTime": {
     "end_time": "2023-05-31T17:43:10.871775974Z",
     "start_time": "2023-05-31T17:43:10.870006079Z"
    }
   },
   "outputs": [
    {
     "data": {
      "text/plain": "{'blue_time': 11 us,\n 'num_blue_time': 128,\n 'white_time': 1408 us,\n 'frequency': 1 GHz}"
     },
     "execution_count": 10,
     "metadata": {},
     "output_type": "execute_result"
    }
   ],
   "source": [
    "config.__dict__()"
   ]
  },
  {
   "cell_type": "code",
   "execution_count": 13,
   "id": "f270286a",
   "metadata": {
    "ExecuteTime": {
     "end_time": "2023-05-31T17:43:33.587951734Z",
     "start_time": "2023-05-31T17:43:33.585044801Z"
    }
   },
   "outputs": [],
   "source": [
    "cfg2 = \"\"\"\n",
    "    blue_time: 0.1 s\n",
    "    num_blue_time: 128\n",
    "    white_time: 1.1 s\n",
    "\"\"\""
   ]
  },
  {
   "cell_type": "code",
   "execution_count": 14,
   "id": "1b64c82c",
   "metadata": {
    "ExecuteTime": {
     "end_time": "2023-05-31T17:43:34.413265463Z",
     "start_time": "2023-05-31T17:43:34.390633562Z"
    }
   },
   "outputs": [
    {
     "ename": "ValueError",
     "evalue": "[white_time]: Value 1.1 s is not in range [1 ns, 1 s]",
     "output_type": "error",
     "traceback": [
      "\u001B[0;31m---------------------------------------------------------------------------\u001B[0m",
      "\u001B[0;31mValueError\u001B[0m                                Traceback (most recent call last)",
      "Cell \u001B[0;32mIn[14], line 1\u001B[0m\n\u001B[0;32m----> 1\u001B[0m \u001B[43mconfig\u001B[49m\u001B[38;5;241;43m.\u001B[39;49m\u001B[43mload\u001B[49m\u001B[43m(\u001B[49m\u001B[43mcfg2\u001B[49m\u001B[43m)\u001B[49m\n",
      "File \u001B[0;32m~/git/yamleins/yamleins/__init__.py:105\u001B[0m, in \u001B[0;36mYamlConfig.load\u001B[0;34m(self, yaml_str, keep_units)\u001B[0m\n\u001B[1;32m    103\u001B[0m statement \u001B[38;5;241m=\u001B[39m transform_line(\u001B[38;5;28mstr\u001B[39m(value))\n\u001B[1;32m    104\u001B[0m _value \u001B[38;5;241m=\u001B[39m \u001B[38;5;28meval\u001B[39m(statement, \u001B[38;5;28mself\u001B[39m\u001B[38;5;241m.\u001B[39m_values, \u001B[38;5;28mdict\u001B[39m(pq\u001B[38;5;241m=\u001B[39mpq))\n\u001B[0;32m--> 105\u001B[0m \u001B[38;5;28;43mself\u001B[39;49m\u001B[38;5;241;43m.\u001B[39;49m\u001B[43m_parameters\u001B[49m\u001B[43m[\u001B[49m\u001B[43mkey\u001B[49m\u001B[43m]\u001B[49m\u001B[38;5;241;43m.\u001B[39;49m\u001B[43mverify\u001B[49m\u001B[43m(\u001B[49m\u001B[43m_value\u001B[49m\u001B[43m)\u001B[49m\n\u001B[1;32m    106\u001B[0m \u001B[38;5;28mself\u001B[39m\u001B[38;5;241m.\u001B[39m_values[key] \u001B[38;5;241m=\u001B[39m _value\n\u001B[1;32m    107\u001B[0m \u001B[38;5;28mself\u001B[39m\u001B[38;5;241m.\u001B[39m_values\u001B[38;5;241m.\u001B[39mpop(\u001B[38;5;124m'\u001B[39m\u001B[38;5;124m__builtins__\u001B[39m\u001B[38;5;124m'\u001B[39m, \u001B[38;5;28;01mNone\u001B[39;00m)\n",
      "File \u001B[0;32m~/git/yamleins/yamleins/__init__.py:55\u001B[0m, in \u001B[0;36mValidator.verify\u001B[0;34m(self, value)\u001B[0m\n\u001B[1;32m     53\u001B[0m high \u001B[38;5;241m=\u001B[39m \u001B[38;5;28mself\u001B[39m\u001B[38;5;241m.\u001B[39mschema[\u001B[38;5;124m'\u001B[39m\u001B[38;5;124mrange\u001B[39m\u001B[38;5;124m'\u001B[39m][\u001B[38;5;241m1\u001B[39m]\n\u001B[1;32m     54\u001B[0m \u001B[38;5;28;01mif\u001B[39;00m \u001B[38;5;129;01mnot\u001B[39;00m low \u001B[38;5;241m<\u001B[39m\u001B[38;5;241m=\u001B[39m value \u001B[38;5;241m<\u001B[39m\u001B[38;5;241m=\u001B[39m high:\n\u001B[0;32m---> 55\u001B[0m     \u001B[38;5;28;01mraise\u001B[39;00m \u001B[38;5;167;01mValueError\u001B[39;00m(\u001B[38;5;124mf\u001B[39m\u001B[38;5;124m'\u001B[39m\u001B[38;5;124m[\u001B[39m\u001B[38;5;132;01m{\u001B[39;00m\u001B[38;5;28mself\u001B[39m\u001B[38;5;241m.\u001B[39mname\u001B[38;5;132;01m}\u001B[39;00m\u001B[38;5;124m]: Value \u001B[39m\u001B[38;5;132;01m{\u001B[39;00mvalue\u001B[38;5;132;01m}\u001B[39;00m\u001B[38;5;124m is not in range \u001B[39m\u001B[38;5;132;01m{\u001B[39;00m\u001B[38;5;28mself\u001B[39m\u001B[38;5;241m.\u001B[39mschema[\u001B[38;5;124m\"\u001B[39m\u001B[38;5;124mrange\u001B[39m\u001B[38;5;124m\"\u001B[39m]\u001B[38;5;132;01m}\u001B[39;00m\u001B[38;5;124m'\u001B[39m)\n\u001B[1;32m     56\u001B[0m \u001B[38;5;28;01mif\u001B[39;00m isphysicalquantity(value):\n\u001B[1;32m     57\u001B[0m     value \u001B[38;5;241m=\u001B[39m value\u001B[38;5;241m.\u001B[39mvalue\n",
      "\u001B[0;31mValueError\u001B[0m: [white_time]: Value 1.1 s is not in range [1 ns, 1 s]"
     ]
    }
   ],
   "source": [
    "config.load(cfg2)"
   ]
  },
  {
   "cell_type": "code",
   "execution_count": 15,
   "id": "7b663023",
   "metadata": {
    "ExecuteTime": {
     "end_time": "2023-05-31T17:43:41.225207136Z",
     "start_time": "2023-05-31T17:43:41.219757879Z"
    }
   },
   "outputs": [
    {
     "data": {
      "text/plain": "{'type': float | int,\n 'default': 20 us,\n 'unit': 's',\n 'doc': 'Duration of a single blue time frame',\n 'range': [1 ns, 1 s]}"
     },
     "execution_count": 15,
     "metadata": {},
     "output_type": "execute_result"
    }
   ],
   "source": [
    "config._parameters['blue_time'].schema"
   ]
  },
  {
   "cell_type": "code",
   "execution_count": 16,
   "id": "cad9f8df",
   "metadata": {
    "ExecuteTime": {
     "end_time": "2023-05-31T17:43:52.145669001Z",
     "start_time": "2023-05-31T17:43:52.141347102Z"
    }
   },
   "outputs": [
    {
     "data": {
      "text/plain": "{'type': float | int,\n 'default': 1 ms,\n 'unit': 's',\n 'doc': 'Duration of a single white time frame',\n 'range': [1 ns, 1 s]}"
     },
     "execution_count": 16,
     "metadata": {},
     "output_type": "execute_result"
    }
   ],
   "source": [
    "config._parameters['white_time'].schema"
   ]
  },
  {
   "cell_type": "code",
   "execution_count": 17,
   "id": "c85a4311",
   "metadata": {
    "ExecuteTime": {
     "end_time": "2023-05-31T17:43:52.813079436Z",
     "start_time": "2023-05-31T17:43:52.809797895Z"
    }
   },
   "outputs": [
    {
     "data": {
      "text/plain": "{'type': float | int,\n 'default': 128,\n 'unit': 'None',\n 'doc': 'Number of blue times',\n 'range': [1, 1000]}"
     },
     "execution_count": 17,
     "metadata": {},
     "output_type": "execute_result"
    }
   ],
   "source": [
    "config._parameters['num_blue_time'].schema"
   ]
  },
  {
   "cell_type": "code",
   "execution_count": 19,
   "id": "195dd6af",
   "metadata": {
    "ExecuteTime": {
     "end_time": "2023-05-31T17:43:58.627067825Z",
     "start_time": "2023-05-31T17:43:58.624536460Z"
    }
   },
   "outputs": [
    {
     "data": {
      "text/plain": "float"
     },
     "execution_count": 19,
     "metadata": {},
     "output_type": "execute_result"
    }
   ],
   "source": [
    "type(config.blue_time.value)"
   ]
  },
  {
   "cell_type": "code",
   "execution_count": 20,
   "id": "6bb2d6db",
   "metadata": {
    "ExecuteTime": {
     "end_time": "2023-05-31T17:43:59.695680372Z",
     "start_time": "2023-05-31T17:43:59.693683292Z"
    }
   },
   "outputs": [
    {
     "data": {
      "text/plain": "True"
     },
     "execution_count": 20,
     "metadata": {},
     "output_type": "execute_result"
    }
   ],
   "source": []
  },
  {
   "cell_type": "code",
   "execution_count": null,
   "id": "5ca7b94a",
   "metadata": {},
   "outputs": [],
   "source": []
  }
 ],
 "metadata": {
  "kernelspec": {
   "display_name": "Python 3 (ipykernel)",
   "language": "python",
   "name": "python3"
  },
  "language_info": {
   "codemirror_mode": {
    "name": "ipython",
    "version": 3
   },
   "file_extension": ".py",
   "mimetype": "text/x-python",
   "name": "python",
   "nbconvert_exporter": "python",
   "pygments_lexer": "ipython3",
   "version": "3.11.3"
  }
 },
 "nbformat": 4,
 "nbformat_minor": 5
}
